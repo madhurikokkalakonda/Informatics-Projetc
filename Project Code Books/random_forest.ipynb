{
  "nbformat": 4,
  "nbformat_minor": 0,
  "metadata": {
    "colab": {
      "provenance": []
    },
    "kernelspec": {
      "name": "python3",
      "display_name": "Python 3"
    },
    "language_info": {
      "name": "python"
    }
  },
  "cells": [
    {
      "cell_type": "code",
      "execution_count": 4,
      "metadata": {
        "id": "WTv3FnbxhwjX"
      },
      "outputs": [],
      "source": [
        "import pandas as pd\n",
        "import numpy as np\n",
        "import matplotlib.pyplot as plt\n",
        "from sklearn.ensemble import RandomForestRegressor\n",
        "from sklearn.model_selection import train_test_split\n",
        "from sklearn import metrics\n",
        "from sklearn.preprocessing import StandardScaler\n",
        "from sklearn.model_selection import cross_validate\n",
        "from sklearn.model_selection import GridSearchCV\n",
        "import math\n",
        "import plotly.express as px\n",
        "import seaborn as sns"
      ]
    },
    {
      "cell_type": "code",
      "source": [
        "df=pd.read_csv('cleaned_data (1)')\n",
        "df=df.drop(['Unnamed: 0'],axis=1)\n",
        "df"
      ],
      "metadata": {
        "colab": {
          "base_uri": "https://localhost:8080/",
          "height": 522
        },
        "id": "hASgxSifqQF_",
        "outputId": "2c9960a3-3a2c-457c-d842-1480f8f41f86"
      },
      "execution_count": 5,
      "outputs": [
        {
          "output_type": "execute_result",
          "data": {
            "text/plain": [
              "              region               province                  name          tc  \\\n",
              "0     Emilia_Romagna                Ferrara             Comacchio  502.250000   \n",
              "1     Emilia_Romagna                Ferrara             Lagosanto  228.050003   \n",
              "2     Emilia_Romagna                Ferrara                  Goro  268.010010   \n",
              "3     Emilia_Romagna                Ferrara                Mesola  199.089996   \n",
              "4             Puglia  Barletta-Andria-Trani  Margherita di Savoia  233.639999   \n",
              "...              ...                    ...                   ...         ...   \n",
              "4336          Veneto                Vicenza              unknown2  122.500000   \n",
              "4337       Lombardia                 Varese              unknown3  126.220001   \n",
              "4338          Veneto                Belluno              unknown4   94.190002   \n",
              "4339          Veneto                Vicenza              unknown5  169.559998   \n",
              "4340          Veneto                Vicenza              unknown6   75.339996   \n",
              "\n",
              "            cres       csor   istat        area    pop         alt  ...  \\\n",
              "0     129.270004  66.419998   38006  283.750000  22648    1.000000  ...   \n",
              "1      49.520000  44.139999   38011   34.439999   4952    1.000000  ...   \n",
              "2      50.610001  44.599998   38025   26.620001   3895    1.000000  ...   \n",
              "3      41.110001  40.439999   38014   84.300003   7140    1.000000  ...   \n",
              "4      58.270000  25.950001  110005   35.700001  12193    1.000000  ...   \n",
              "...          ...        ...     ...         ...    ...         ...  ...   \n",
              "4336   44.320000  43.590000   24125   20.709681   5031  162.489362  ...   \n",
              "4337   51.250000  22.620001   12143    8.419592   2623  316.642857  ...   \n",
              "4338   17.080000  47.700001   25074   73.694736  13515  477.842105  ...   \n",
              "4339   70.230003  75.250000   24127   20.709681   4683  162.489362  ...   \n",
              "4340   23.549999  32.580002   24126   20.709681   5986  162.489362  ...   \n",
              "\n",
              "           msw    sor       geo       roads  s_wteregio s_landfill       gdp  \\\n",
              "0     33956781  60.07  3.000000  285.000000   33.105049  15.233530  7.269942   \n",
              "1      2411867  75.93  3.000000   11.000000   33.105049  15.233530  7.109984   \n",
              "2      2159322  78.49  3.000000   49.000000   33.105049  15.233530  7.267856   \n",
              "3      3651915  78.89  3.000000  165.000000   33.105049  15.233530  7.085936   \n",
              "4      7195880  42.06  1.000000   60.000000    4.046452  45.411903  7.247444   \n",
              "...        ...    ...       ...         ...         ...        ...       ...   \n",
              "4336   2113374  71.70  2.989247   68.373626    9.898176  11.296785  7.231159   \n",
              "4337   1240725  79.55  3.000000   44.833402   38.501492   4.551430  7.231159   \n",
              "4338   5554469  88.30  2.947368  114.016667    9.898176  11.296785  7.231159   \n",
              "4339   2172620  67.73  2.989247   68.373626    9.898176  11.296785  7.231159   \n",
              "4340   2102724  81.89  2.989247   68.373626    9.898176  11.296785  7.231159   \n",
              "\n",
              "        proads      wage   finance  \n",
              "0     4.354818  9.438692  7.488041  \n",
              "1     6.082588  9.510139  7.323284  \n",
              "2     4.335555  8.891356  7.485891  \n",
              "3     3.710479  9.433685  7.298514  \n",
              "4     5.274037  9.125561  7.464867  \n",
              "...        ...       ...       ...  \n",
              "4336  4.452678  9.637836  7.002821  \n",
              "4337  5.027392  9.624770  7.037059  \n",
              "4338  3.963644  9.650623  7.237466  \n",
              "4339  4.452678  9.637836  7.002821  \n",
              "4340  4.452678  9.637836  7.002821  \n",
              "\n",
              "[4341 rows x 39 columns]"
            ],
            "text/html": [
              "\n",
              "  <div id=\"df-cbe2582b-65c4-408a-ab2f-4b20134ab055\">\n",
              "    <div class=\"colab-df-container\">\n",
              "      <div>\n",
              "<style scoped>\n",
              "    .dataframe tbody tr th:only-of-type {\n",
              "        vertical-align: middle;\n",
              "    }\n",
              "\n",
              "    .dataframe tbody tr th {\n",
              "        vertical-align: top;\n",
              "    }\n",
              "\n",
              "    .dataframe thead th {\n",
              "        text-align: right;\n",
              "    }\n",
              "</style>\n",
              "<table border=\"1\" class=\"dataframe\">\n",
              "  <thead>\n",
              "    <tr style=\"text-align: right;\">\n",
              "      <th></th>\n",
              "      <th>region</th>\n",
              "      <th>province</th>\n",
              "      <th>name</th>\n",
              "      <th>tc</th>\n",
              "      <th>cres</th>\n",
              "      <th>csor</th>\n",
              "      <th>istat</th>\n",
              "      <th>area</th>\n",
              "      <th>pop</th>\n",
              "      <th>alt</th>\n",
              "      <th>...</th>\n",
              "      <th>msw</th>\n",
              "      <th>sor</th>\n",
              "      <th>geo</th>\n",
              "      <th>roads</th>\n",
              "      <th>s_wteregio</th>\n",
              "      <th>s_landfill</th>\n",
              "      <th>gdp</th>\n",
              "      <th>proads</th>\n",
              "      <th>wage</th>\n",
              "      <th>finance</th>\n",
              "    </tr>\n",
              "  </thead>\n",
              "  <tbody>\n",
              "    <tr>\n",
              "      <th>0</th>\n",
              "      <td>Emilia_Romagna</td>\n",
              "      <td>Ferrara</td>\n",
              "      <td>Comacchio</td>\n",
              "      <td>502.250000</td>\n",
              "      <td>129.270004</td>\n",
              "      <td>66.419998</td>\n",
              "      <td>38006</td>\n",
              "      <td>283.750000</td>\n",
              "      <td>22648</td>\n",
              "      <td>1.000000</td>\n",
              "      <td>...</td>\n",
              "      <td>33956781</td>\n",
              "      <td>60.07</td>\n",
              "      <td>3.000000</td>\n",
              "      <td>285.000000</td>\n",
              "      <td>33.105049</td>\n",
              "      <td>15.233530</td>\n",
              "      <td>7.269942</td>\n",
              "      <td>4.354818</td>\n",
              "      <td>9.438692</td>\n",
              "      <td>7.488041</td>\n",
              "    </tr>\n",
              "    <tr>\n",
              "      <th>1</th>\n",
              "      <td>Emilia_Romagna</td>\n",
              "      <td>Ferrara</td>\n",
              "      <td>Lagosanto</td>\n",
              "      <td>228.050003</td>\n",
              "      <td>49.520000</td>\n",
              "      <td>44.139999</td>\n",
              "      <td>38011</td>\n",
              "      <td>34.439999</td>\n",
              "      <td>4952</td>\n",
              "      <td>1.000000</td>\n",
              "      <td>...</td>\n",
              "      <td>2411867</td>\n",
              "      <td>75.93</td>\n",
              "      <td>3.000000</td>\n",
              "      <td>11.000000</td>\n",
              "      <td>33.105049</td>\n",
              "      <td>15.233530</td>\n",
              "      <td>7.109984</td>\n",
              "      <td>6.082588</td>\n",
              "      <td>9.510139</td>\n",
              "      <td>7.323284</td>\n",
              "    </tr>\n",
              "    <tr>\n",
              "      <th>2</th>\n",
              "      <td>Emilia_Romagna</td>\n",
              "      <td>Ferrara</td>\n",
              "      <td>Goro</td>\n",
              "      <td>268.010010</td>\n",
              "      <td>50.610001</td>\n",
              "      <td>44.599998</td>\n",
              "      <td>38025</td>\n",
              "      <td>26.620001</td>\n",
              "      <td>3895</td>\n",
              "      <td>1.000000</td>\n",
              "      <td>...</td>\n",
              "      <td>2159322</td>\n",
              "      <td>78.49</td>\n",
              "      <td>3.000000</td>\n",
              "      <td>49.000000</td>\n",
              "      <td>33.105049</td>\n",
              "      <td>15.233530</td>\n",
              "      <td>7.267856</td>\n",
              "      <td>4.335555</td>\n",
              "      <td>8.891356</td>\n",
              "      <td>7.485891</td>\n",
              "    </tr>\n",
              "    <tr>\n",
              "      <th>3</th>\n",
              "      <td>Emilia_Romagna</td>\n",
              "      <td>Ferrara</td>\n",
              "      <td>Mesola</td>\n",
              "      <td>199.089996</td>\n",
              "      <td>41.110001</td>\n",
              "      <td>40.439999</td>\n",
              "      <td>38014</td>\n",
              "      <td>84.300003</td>\n",
              "      <td>7140</td>\n",
              "      <td>1.000000</td>\n",
              "      <td>...</td>\n",
              "      <td>3651915</td>\n",
              "      <td>78.89</td>\n",
              "      <td>3.000000</td>\n",
              "      <td>165.000000</td>\n",
              "      <td>33.105049</td>\n",
              "      <td>15.233530</td>\n",
              "      <td>7.085936</td>\n",
              "      <td>3.710479</td>\n",
              "      <td>9.433685</td>\n",
              "      <td>7.298514</td>\n",
              "    </tr>\n",
              "    <tr>\n",
              "      <th>4</th>\n",
              "      <td>Puglia</td>\n",
              "      <td>Barletta-Andria-Trani</td>\n",
              "      <td>Margherita di Savoia</td>\n",
              "      <td>233.639999</td>\n",
              "      <td>58.270000</td>\n",
              "      <td>25.950001</td>\n",
              "      <td>110005</td>\n",
              "      <td>35.700001</td>\n",
              "      <td>12193</td>\n",
              "      <td>1.000000</td>\n",
              "      <td>...</td>\n",
              "      <td>7195880</td>\n",
              "      <td>42.06</td>\n",
              "      <td>1.000000</td>\n",
              "      <td>60.000000</td>\n",
              "      <td>4.046452</td>\n",
              "      <td>45.411903</td>\n",
              "      <td>7.247444</td>\n",
              "      <td>5.274037</td>\n",
              "      <td>9.125561</td>\n",
              "      <td>7.464867</td>\n",
              "    </tr>\n",
              "    <tr>\n",
              "      <th>...</th>\n",
              "      <td>...</td>\n",
              "      <td>...</td>\n",
              "      <td>...</td>\n",
              "      <td>...</td>\n",
              "      <td>...</td>\n",
              "      <td>...</td>\n",
              "      <td>...</td>\n",
              "      <td>...</td>\n",
              "      <td>...</td>\n",
              "      <td>...</td>\n",
              "      <td>...</td>\n",
              "      <td>...</td>\n",
              "      <td>...</td>\n",
              "      <td>...</td>\n",
              "      <td>...</td>\n",
              "      <td>...</td>\n",
              "      <td>...</td>\n",
              "      <td>...</td>\n",
              "      <td>...</td>\n",
              "      <td>...</td>\n",
              "      <td>...</td>\n",
              "    </tr>\n",
              "    <tr>\n",
              "      <th>4336</th>\n",
              "      <td>Veneto</td>\n",
              "      <td>Vicenza</td>\n",
              "      <td>unknown2</td>\n",
              "      <td>122.500000</td>\n",
              "      <td>44.320000</td>\n",
              "      <td>43.590000</td>\n",
              "      <td>24125</td>\n",
              "      <td>20.709681</td>\n",
              "      <td>5031</td>\n",
              "      <td>162.489362</td>\n",
              "      <td>...</td>\n",
              "      <td>2113374</td>\n",
              "      <td>71.70</td>\n",
              "      <td>2.989247</td>\n",
              "      <td>68.373626</td>\n",
              "      <td>9.898176</td>\n",
              "      <td>11.296785</td>\n",
              "      <td>7.231159</td>\n",
              "      <td>4.452678</td>\n",
              "      <td>9.637836</td>\n",
              "      <td>7.002821</td>\n",
              "    </tr>\n",
              "    <tr>\n",
              "      <th>4337</th>\n",
              "      <td>Lombardia</td>\n",
              "      <td>Varese</td>\n",
              "      <td>unknown3</td>\n",
              "      <td>126.220001</td>\n",
              "      <td>51.250000</td>\n",
              "      <td>22.620001</td>\n",
              "      <td>12143</td>\n",
              "      <td>8.419592</td>\n",
              "      <td>2623</td>\n",
              "      <td>316.642857</td>\n",
              "      <td>...</td>\n",
              "      <td>1240725</td>\n",
              "      <td>79.55</td>\n",
              "      <td>3.000000</td>\n",
              "      <td>44.833402</td>\n",
              "      <td>38.501492</td>\n",
              "      <td>4.551430</td>\n",
              "      <td>7.231159</td>\n",
              "      <td>5.027392</td>\n",
              "      <td>9.624770</td>\n",
              "      <td>7.037059</td>\n",
              "    </tr>\n",
              "    <tr>\n",
              "      <th>4338</th>\n",
              "      <td>Veneto</td>\n",
              "      <td>Belluno</td>\n",
              "      <td>unknown4</td>\n",
              "      <td>94.190002</td>\n",
              "      <td>17.080000</td>\n",
              "      <td>47.700001</td>\n",
              "      <td>25074</td>\n",
              "      <td>73.694736</td>\n",
              "      <td>13515</td>\n",
              "      <td>477.842105</td>\n",
              "      <td>...</td>\n",
              "      <td>5554469</td>\n",
              "      <td>88.30</td>\n",
              "      <td>2.947368</td>\n",
              "      <td>114.016667</td>\n",
              "      <td>9.898176</td>\n",
              "      <td>11.296785</td>\n",
              "      <td>7.231159</td>\n",
              "      <td>3.963644</td>\n",
              "      <td>9.650623</td>\n",
              "      <td>7.237466</td>\n",
              "    </tr>\n",
              "    <tr>\n",
              "      <th>4339</th>\n",
              "      <td>Veneto</td>\n",
              "      <td>Vicenza</td>\n",
              "      <td>unknown5</td>\n",
              "      <td>169.559998</td>\n",
              "      <td>70.230003</td>\n",
              "      <td>75.250000</td>\n",
              "      <td>24127</td>\n",
              "      <td>20.709681</td>\n",
              "      <td>4683</td>\n",
              "      <td>162.489362</td>\n",
              "      <td>...</td>\n",
              "      <td>2172620</td>\n",
              "      <td>67.73</td>\n",
              "      <td>2.989247</td>\n",
              "      <td>68.373626</td>\n",
              "      <td>9.898176</td>\n",
              "      <td>11.296785</td>\n",
              "      <td>7.231159</td>\n",
              "      <td>4.452678</td>\n",
              "      <td>9.637836</td>\n",
              "      <td>7.002821</td>\n",
              "    </tr>\n",
              "    <tr>\n",
              "      <th>4340</th>\n",
              "      <td>Veneto</td>\n",
              "      <td>Vicenza</td>\n",
              "      <td>unknown6</td>\n",
              "      <td>75.339996</td>\n",
              "      <td>23.549999</td>\n",
              "      <td>32.580002</td>\n",
              "      <td>24126</td>\n",
              "      <td>20.709681</td>\n",
              "      <td>5986</td>\n",
              "      <td>162.489362</td>\n",
              "      <td>...</td>\n",
              "      <td>2102724</td>\n",
              "      <td>81.89</td>\n",
              "      <td>2.989247</td>\n",
              "      <td>68.373626</td>\n",
              "      <td>9.898176</td>\n",
              "      <td>11.296785</td>\n",
              "      <td>7.231159</td>\n",
              "      <td>4.452678</td>\n",
              "      <td>9.637836</td>\n",
              "      <td>7.002821</td>\n",
              "    </tr>\n",
              "  </tbody>\n",
              "</table>\n",
              "<p>4341 rows × 39 columns</p>\n",
              "</div>\n",
              "      <button class=\"colab-df-convert\" onclick=\"convertToInteractive('df-cbe2582b-65c4-408a-ab2f-4b20134ab055')\"\n",
              "              title=\"Convert this dataframe to an interactive table.\"\n",
              "              style=\"display:none;\">\n",
              "        \n",
              "  <svg xmlns=\"http://www.w3.org/2000/svg\" height=\"24px\"viewBox=\"0 0 24 24\"\n",
              "       width=\"24px\">\n",
              "    <path d=\"M0 0h24v24H0V0z\" fill=\"none\"/>\n",
              "    <path d=\"M18.56 5.44l.94 2.06.94-2.06 2.06-.94-2.06-.94-.94-2.06-.94 2.06-2.06.94zm-11 1L8.5 8.5l.94-2.06 2.06-.94-2.06-.94L8.5 2.5l-.94 2.06-2.06.94zm10 10l.94 2.06.94-2.06 2.06-.94-2.06-.94-.94-2.06-.94 2.06-2.06.94z\"/><path d=\"M17.41 7.96l-1.37-1.37c-.4-.4-.92-.59-1.43-.59-.52 0-1.04.2-1.43.59L10.3 9.45l-7.72 7.72c-.78.78-.78 2.05 0 2.83L4 21.41c.39.39.9.59 1.41.59.51 0 1.02-.2 1.41-.59l7.78-7.78 2.81-2.81c.8-.78.8-2.07 0-2.86zM5.41 20L4 18.59l7.72-7.72 1.47 1.35L5.41 20z\"/>\n",
              "  </svg>\n",
              "      </button>\n",
              "      \n",
              "  <style>\n",
              "    .colab-df-container {\n",
              "      display:flex;\n",
              "      flex-wrap:wrap;\n",
              "      gap: 12px;\n",
              "    }\n",
              "\n",
              "    .colab-df-convert {\n",
              "      background-color: #E8F0FE;\n",
              "      border: none;\n",
              "      border-radius: 50%;\n",
              "      cursor: pointer;\n",
              "      display: none;\n",
              "      fill: #1967D2;\n",
              "      height: 32px;\n",
              "      padding: 0 0 0 0;\n",
              "      width: 32px;\n",
              "    }\n",
              "\n",
              "    .colab-df-convert:hover {\n",
              "      background-color: #E2EBFA;\n",
              "      box-shadow: 0px 1px 2px rgba(60, 64, 67, 0.3), 0px 1px 3px 1px rgba(60, 64, 67, 0.15);\n",
              "      fill: #174EA6;\n",
              "    }\n",
              "\n",
              "    [theme=dark] .colab-df-convert {\n",
              "      background-color: #3B4455;\n",
              "      fill: #D2E3FC;\n",
              "    }\n",
              "\n",
              "    [theme=dark] .colab-df-convert:hover {\n",
              "      background-color: #434B5C;\n",
              "      box-shadow: 0px 1px 3px 1px rgba(0, 0, 0, 0.15);\n",
              "      filter: drop-shadow(0px 1px 2px rgba(0, 0, 0, 0.3));\n",
              "      fill: #FFFFFF;\n",
              "    }\n",
              "  </style>\n",
              "\n",
              "      <script>\n",
              "        const buttonEl =\n",
              "          document.querySelector('#df-cbe2582b-65c4-408a-ab2f-4b20134ab055 button.colab-df-convert');\n",
              "        buttonEl.style.display =\n",
              "          google.colab.kernel.accessAllowed ? 'block' : 'none';\n",
              "\n",
              "        async function convertToInteractive(key) {\n",
              "          const element = document.querySelector('#df-cbe2582b-65c4-408a-ab2f-4b20134ab055');\n",
              "          const dataTable =\n",
              "            await google.colab.kernel.invokeFunction('convertToInteractive',\n",
              "                                                     [key], {});\n",
              "          if (!dataTable) return;\n",
              "\n",
              "          const docLinkHtml = 'Like what you see? Visit the ' +\n",
              "            '<a target=\"_blank\" href=https://colab.research.google.com/notebooks/data_table.ipynb>data table notebook</a>'\n",
              "            + ' to learn more about interactive tables.';\n",
              "          element.innerHTML = '';\n",
              "          dataTable['output_type'] = 'display_data';\n",
              "          await google.colab.output.renderOutput(dataTable, element);\n",
              "          const docLink = document.createElement('div');\n",
              "          docLink.innerHTML = docLinkHtml;\n",
              "          element.appendChild(docLink);\n",
              "        }\n",
              "      </script>\n",
              "    </div>\n",
              "  </div>\n",
              "  "
            ]
          },
          "metadata": {},
          "execution_count": 5
        }
      ]
    },
    {
      "cell_type": "code",
      "source": [
        "numeric=list(df.select_dtypes(include=[np.number]).columns.values)\n",
        "numeric.remove('finance')\n",
        "#numeric.remove('gdp')\n",
        "numeric"
      ],
      "metadata": {
        "colab": {
          "base_uri": "https://localhost:8080/"
        },
        "id": "tJ_C29mI0xpZ",
        "outputId": "834891ba-53e2-4d0f-a801-afda5b037671"
      },
      "execution_count": 6,
      "outputs": [
        {
          "output_type": "execute_result",
          "data": {
            "text/plain": [
              "['tc',\n",
              " 'cres',\n",
              " 'csor',\n",
              " 'istat',\n",
              " 'area',\n",
              " 'pop',\n",
              " 'alt',\n",
              " 'isle',\n",
              " 'sea',\n",
              " 'pden',\n",
              " 'wden',\n",
              " 'urb',\n",
              " 'd_fee',\n",
              " 'sample',\n",
              " 'organic',\n",
              " 'paper',\n",
              " 'glass',\n",
              " 'wood',\n",
              " 'metal',\n",
              " 'plastic',\n",
              " 'raee',\n",
              " 'texile',\n",
              " 'other',\n",
              " 'msw_so',\n",
              " 'msw_un',\n",
              " 'msw',\n",
              " 'sor',\n",
              " 'geo',\n",
              " 'roads',\n",
              " 's_wteregio',\n",
              " 's_landfill',\n",
              " 'gdp',\n",
              " 'proads',\n",
              " 'wage']"
            ]
          },
          "metadata": {},
          "execution_count": 6
        }
      ]
    },
    {
      "cell_type": "code",
      "source": [
        "df2=df\n",
        "df2=df2.drop('region',axis=1)\n",
        "df1=df2.groupby('province').count()\n",
        "df1=df1.reset_index()\n",
        "drop_province=df1[df1.name<50]\n",
        "province=df1[df1.name>=50]\n",
        "province=list(province.province)\n",
        "drop_province=list(drop_province.province)\n",
        "#df3[df3.province==province]\n",
        "print(len(set(province)))\n",
        "for i in drop_province:\n",
        "  df2=df2.drop(df2.index[(df2[\"province\"] == i)])\n",
        "print(province)\n",
        "df2.province.value_counts()\n",
        "#df2.head()\n"
      ],
      "metadata": {
        "colab": {
          "base_uri": "https://localhost:8080/"
        },
        "id": "77MVuO-qSXz6",
        "outputId": "31145cb2-fbbf-4a16-8770-87f4e1227e0a"
      },
      "execution_count": 7,
      "outputs": [
        {
          "output_type": "stream",
          "name": "stdout",
          "text": [
            "29\n",
            "['Avellino', 'Benevento', 'Bergamo', 'Biella', 'Bologna', 'Bolzano', 'Brescia', 'Caserta', 'Chieti', 'Como', 'Cosenza', 'Cremona', 'Imperia', 'Lecco', 'Mantova', 'Milano', 'Monza e della Brianza', 'Napoli', 'Padova', 'Pavia', 'Pordenone', 'Potenza', 'Roma', 'Salerno', 'Savona', 'Sondrio', 'Udine', 'Varese', 'Vicenza']\n"
          ]
        },
        {
          "output_type": "execute_result",
          "data": {
            "text/plain": [
              "Bergamo                  218\n",
              "Brescia                  172\n",
              "Milano                   131\n",
              "Bolzano                  115\n",
              "Salerno                  112\n",
              "Como                     106\n",
              "Cremona                  102\n",
              "Udine                    102\n",
              "Varese                    99\n",
              "Vicenza                   97\n",
              "Pavia                     94\n",
              "Lecco                     80\n",
              "Napoli                    80\n",
              "Avellino                  79\n",
              "Caserta                   78\n",
              "Roma                      70\n",
              "Cosenza                   69\n",
              "Chieti                    69\n",
              "Biella                    64\n",
              "Mantova                   63\n",
              "Sondrio                   62\n",
              "Padova                    60\n",
              "Savona                    59\n",
              "Benevento                 56\n",
              "Bologna                   54\n",
              "Monza e della Brianza     54\n",
              "Potenza                   54\n",
              "Imperia                   52\n",
              "Pordenone                 50\n",
              "Name: province, dtype: int64"
            ]
          },
          "metadata": {},
          "execution_count": 7
        }
      ]
    },
    {
      "cell_type": "code",
      "source": [
        "sc_X = StandardScaler()\n",
        "sc_y = StandardScaler()\n",
        "dict1={}\n",
        "for i in province:\n",
        "  #print(i)\n",
        "  df3=df2[df2['province']==i]\n",
        "  #print(df3.isnull().sum())\n",
        "  #print(df3.finance)\n",
        "  #print(df3.shape)\n",
        "  X=df3[numeric]\n",
        "  #print(X.shape)\n",
        "  X = sc_X.fit_transform(X)\n",
        "  y=df3.finance\n",
        "  #print(y.shape)\n",
        "  \n",
        "  X_train, X_test, y_train, y_test = train_test_split( X, y, test_size=0.2, random_state=42)\n",
        "  rf = RandomForestRegressor(bootstrap=True,\n",
        "  max_depth= 80,\n",
        "  max_features= 3,\n",
        "  min_samples_leaf= 3,\n",
        "  min_samples_split= 8,\n",
        "  n_estimators=300,\n",
        "  random_state= 42)\n",
        "  rf.fit(X_train,y_train)\n",
        "  y_predict=rf.predict(X_test)\n",
        "  r2=rf.score(X_test, y_test)\n",
        "  #print(r2)\n",
        "  dict1.update({i:r2})\n",
        "print(dict1)"
      ],
      "metadata": {
        "colab": {
          "base_uri": "https://localhost:8080/"
        },
        "id": "h9WLqzadpGCR",
        "outputId": "5060a578-85c4-436e-9710-4c43ef47a353"
      },
      "execution_count": 8,
      "outputs": [
        {
          "output_type": "stream",
          "name": "stdout",
          "text": [
            "{'Avellino': 0.525635672078931, 'Benevento': 0.4269274597953512, 'Bergamo': 0.7406838166018421, 'Biella': 0.3250543267298298, 'Bologna': 0.5757355298629947, 'Bolzano': 0.3796672062956473, 'Brescia': 0.5791745671608761, 'Caserta': 0.6750369195422004, 'Chieti': 0.1158082514840032, 'Como': 0.5901124649688063, 'Cosenza': 0.48434548217197604, 'Cremona': 0.5431838229134364, 'Imperia': 0.22917783342337428, 'Lecco': 0.7052657067391386, 'Mantova': 0.6678582864241007, 'Milano': 0.7156424397716503, 'Monza e della Brianza': -0.41279729627303574, 'Napoli': 0.43477932897466276, 'Padova': 0.3971099843359379, 'Pavia': 0.7437086584658745, 'Pordenone': 0.7789660941313333, 'Potenza': -0.038695203643072995, 'Roma': 0.2816898351025301, 'Salerno': 0.5495469809875724, 'Savona': 0.2788074356777954, 'Sondrio': 0.8018958436767971, 'Udine': 0.7643093383574523, 'Varese': 0.40826719223048114, 'Vicenza': 0.6986506161790174}\n"
          ]
        }
      ]
    },
    {
      "cell_type": "code",
      "source": [],
      "metadata": {
        "id": "lSoEWJkESjqC"
      },
      "execution_count": 14,
      "outputs": []
    },
    {
      "cell_type": "code",
      "source": [
        "sc_X = StandardScaler()\n",
        "sc_y = StandardScaler()\n"
      ],
      "metadata": {
        "id": "8VnwXuw6s8i9"
      },
      "execution_count": 9,
      "outputs": []
    },
    {
      "cell_type": "code",
      "source": [
        "\n",
        "X=df[numeric]\n",
        "X = sc_X.fit_transform(X)\n",
        "y=df['finance']\n",
        "X_train, X_test, y_train, y_test = train_test_split( X, y, test_size=0.2, random_state=42)\n",
        "rf = RandomForestRegressor(bootstrap=True,\n",
        " max_depth= 80,\n",
        " max_features= 3,\n",
        " min_samples_leaf= 3,\n",
        " min_samples_split= 8,\n",
        " n_estimators=300,\n",
        " random_state= 42)\n",
        "rf.fit(X_train,y_train)"
      ],
      "metadata": {
        "colab": {
          "base_uri": "https://localhost:8080/"
        },
        "id": "jIukev2tlDF4",
        "outputId": "a4b67c1c-d5d4-414d-ad96-e7e2c232d33d"
      },
      "execution_count": 17,
      "outputs": [
        {
          "output_type": "execute_result",
          "data": {
            "text/plain": [
              "RandomForestRegressor(max_depth=80, max_features=3, min_samples_leaf=3,\n",
              "                      min_samples_split=8, n_estimators=300, random_state=42)"
            ]
          },
          "metadata": {},
          "execution_count": 17
        }
      ]
    },
    {
      "cell_type": "code",
      "source": [
        "print(y_test)"
      ],
      "metadata": {
        "id": "NJu6q2BW3P94",
        "colab": {
          "base_uri": "https://localhost:8080/"
        },
        "outputId": "4cb1e29a-d26a-48d1-ef7b-591d89950f86"
      },
      "execution_count": 47,
      "outputs": [
        {
          "output_type": "stream",
          "name": "stdout",
          "text": [
            "1022    7.789426\n",
            "457     7.028382\n",
            "2666    7.126703\n",
            "17      7.834445\n",
            "3933    8.271381\n",
            "          ...   \n",
            "3894    7.545520\n",
            "2647    7.490262\n",
            "416     6.747433\n",
            "1618    7.223927\n",
            "3519    8.076706\n",
            "Name: finance, Length: 869, dtype: float64\n"
          ]
        }
      ]
    },
    {
      "cell_type": "code",
      "source": [
        "X.shape,y.shape"
      ],
      "metadata": {
        "colab": {
          "base_uri": "https://localhost:8080/"
        },
        "id": "Nkb8_DXQtJfH",
        "outputId": "bba64ebe-dd47-498c-aeea-656fbe6192c3"
      },
      "execution_count": 70,
      "outputs": [
        {
          "output_type": "execute_result",
          "data": {
            "text/plain": [
              "((4341, 34), (4341,))"
            ]
          },
          "metadata": {},
          "execution_count": 70
        }
      ]
    },
    {
      "cell_type": "code",
      "source": [
        "y_predict=rf.predict(X_test)\n",
        "y_predict\n",
        "rf.score(X_train,y_train),rf.score(X_test,y_test)\n"
      ],
      "metadata": {
        "colab": {
          "base_uri": "https://localhost:8080/"
        },
        "id": "r7pkZq1q1-Og",
        "outputId": "53bfc000-7166-47fd-bfc0-89d1ffb105cc"
      },
      "execution_count": 11,
      "outputs": [
        {
          "output_type": "execute_result",
          "data": {
            "text/plain": [
              "(0.9337484537166826, 0.8499774999230044)"
            ]
          },
          "metadata": {},
          "execution_count": 11
        }
      ]
    },
    {
      "cell_type": "code",
      "source": [
        "impr_feature=rf.feature_importances_\n",
        "impr_feature"
      ],
      "metadata": {
        "id": "7OCtGcgO_wDX",
        "colab": {
          "base_uri": "https://localhost:8080/"
        },
        "outputId": "22d00ac7-314f-4bdd-8c44-d5f0069d9dec"
      },
      "execution_count": 19,
      "outputs": [
        {
          "output_type": "execute_result",
          "data": {
            "text/plain": [
              "array([4.26536470e-02, 2.37031869e-02, 1.36128336e-02, 2.41363806e-02,\n",
              "       1.57560864e-02, 2.88793454e-02, 4.92872851e-02, 2.43968362e-05,\n",
              "       3.36581729e-03, 5.69837268e-02, 5.17419298e-02, 1.07017073e-02,\n",
              "       2.25803684e-03, 1.82229233e-02, 1.06250064e-02, 9.83648079e-03,\n",
              "       1.15305348e-02, 2.04128996e-02, 9.22061107e-03, 1.22244158e-02,\n",
              "       7.69777815e-03, 8.26477111e-03, 1.51565153e-02, 2.99315718e-02,\n",
              "       2.07692679e-02, 2.89128346e-02, 1.42261102e-02, 2.21136568e-02,\n",
              "       1.12261274e-02, 2.76494696e-02, 2.55200177e-02, 3.02132009e-01,\n",
              "       3.96844157e-02, 3.15382028e-02])"
            ]
          },
          "metadata": {},
          "execution_count": 19
        }
      ]
    },
    {
      "cell_type": "code",
      "source": [
        "X=df[numeric]\n",
        "len(X.columns)"
      ],
      "metadata": {
        "colab": {
          "base_uri": "https://localhost:8080/"
        },
        "id": "Sgw5X8Vj_7m0",
        "outputId": "c55a72c4-ddaf-4b1c-e021-cd8cd82d47d9"
      },
      "execution_count": 13,
      "outputs": [
        {
          "output_type": "execute_result",
          "data": {
            "text/plain": [
              "34"
            ]
          },
          "metadata": {},
          "execution_count": 13
        }
      ]
    },
    {
      "cell_type": "code",
      "source": [
        "rfcoef= pd.Series(impr_feature,X.columns)\n"
      ],
      "metadata": {
        "id": "zTffsh9wADdz"
      },
      "execution_count": 20,
      "outputs": []
    },
    {
      "cell_type": "code",
      "source": [
        "plt.scatter(y_predict,y_test)"
      ],
      "metadata": {
        "colab": {
          "base_uri": "https://localhost:8080/",
          "height": 283
        },
        "id": "lBQ_TJhtYUfj",
        "outputId": "53963b17-4853-4876-eb91-d5fb90af5136"
      },
      "execution_count": 15,
      "outputs": [
        {
          "output_type": "execute_result",
          "data": {
            "text/plain": [
              "<matplotlib.collections.PathCollection at 0x7f8c087f57c0>"
            ]
          },
          "metadata": {},
          "execution_count": 15
        },
        {
          "output_type": "display_data",
          "data": {
            "text/plain": [
              "<Figure size 432x288 with 1 Axes>"
            ],
            "image/png": "[encoded data removed]"
          },
          "metadata": {
            "needs_background": "light"
          }
        }
      ]
    },
    {
      "cell_type": "code",
      "source": [
        "plt.rcParams[\"figure.figsize\"] = (30, 30)\n",
        "rfcoef.sort_values().plot.barh(color='b')\n"
      ],
      "metadata": {
        "id": "Q44MRMcGBHCv",
        "colab": {
          "base_uri": "https://localhost:8080/",
          "height": 1000
        },
        "outputId": "a781d571-3a85-4197-ecb3-5d8ee51ef869"
      },
      "execution_count": 23,
      "outputs": [
        {
          "output_type": "execute_result",
          "data": {
            "text/plain": [
              "<matplotlib.axes._subplots.AxesSubplot at 0x7f8c0759ee80>"
            ]
          },
          "metadata": {},
          "execution_count": 23
        },
        {
          "output_type": "display_data",
          "data": {
            "text/plain": [
              "<Figure size 2160x2160 with 1 Axes>"
            ],
            "image/png": "[encoded data removed]"
          },
          "metadata": {
            "needs_background": "light"
          }
        }
      ]
    },
    {
      "cell_type": "code",
      "source": [
        "cv = cross_validate(rf, X, y, cv=5)"
      ],
      "metadata": {
        "id": "ZQ2FWEPq_JF-"
      },
      "execution_count": 25,
      "outputs": []
    },
    {
      "cell_type": "code",
      "source": [
        "print('5 folds accuracy:',cv['test_score']*100)\n",
        "print('mean accuracy of 5 folds:',cv['test_score'].mean()*100,'%')"
      ],
      "metadata": {
        "id": "Zv3g8lL1APZc"
      },
      "execution_count": null,
      "outputs": []
    },
    {
      "cell_type": "code",
      "source": [
        "param_grid = {\n",
        "    'bootstrap': [True],\n",
        "    'max_depth': [80, 90, 100, 110],\n",
        "    'max_features': [2, 3],\n",
        "    'min_samples_leaf': [3, 4, 5],\n",
        "    'min_samples_split': [8, 10, 12],\n",
        "    'n_estimators': [100, 200, 300, 1000],\n",
        "    'random_state' : [42]\n",
        "}\n"
      ],
      "metadata": {
        "id": "-CHJNoizCpJ8"
      },
      "execution_count": 39,
      "outputs": []
    },
    {
      "cell_type": "code",
      "source": [
        "grid_search = GridSearchCV(estimator = rf, param_grid = param_grid, \n",
        "                          cv = 3, n_jobs = -1, verbose = 2)"
      ],
      "metadata": {
        "id": "quJARiyQDFLc"
      },
      "execution_count": 42,
      "outputs": []
    },
    {
      "cell_type": "code",
      "source": [
        "grid_search.fit(X_train, y_train)"
      ],
      "metadata": {
        "id": "9eSX81zZFzHM",
        "colab": {
          "base_uri": "https://localhost:8080/"
        },
        "outputId": "70226e8b-3aca-443d-848d-7165aaef4bf5"
      },
      "execution_count": 43,
      "outputs": [
        {
          "output_type": "stream",
          "name": "stdout",
          "text": [
            "Fitting 3 folds for each of 288 candidates, totalling 864 fits\n"
          ]
        },
        {
          "output_type": "execute_result",
          "data": {
            "text/plain": [
              "GridSearchCV(cv=3,\n",
              "             estimator=RandomForestRegressor(n_estimators=1000,\n",
              "                                             random_state=42),\n",
              "             n_jobs=-1,\n",
              "             param_grid={'bootstrap': [True], 'max_depth': [80, 90, 100, 110],\n",
              "                         'max_features': [2, 3], 'min_samples_leaf': [3, 4, 5],\n",
              "                         'min_samples_split': [8, 10, 12],\n",
              "                         'n_estimators': [100, 200, 300, 1000],\n",
              "                         'random_state': [42]},\n",
              "             verbose=2)"
            ]
          },
          "metadata": {},
          "execution_count": 43
        }
      ]
    },
    {
      "cell_type": "code",
      "source": [
        "best_grid = grid_search.best_estimator_\n",
        "#grid_accuracy = evaluate(best_grid, X_test, y_test)"
      ],
      "metadata": {
        "id": "6S09v3TFIwUE"
      },
      "execution_count": 29,
      "outputs": []
    },
    {
      "cell_type": "code",
      "source": [
        "grid_search.best_params_"
      ],
      "metadata": {
        "colab": {
          "base_uri": "https://localhost:8080/"
        },
        "id": "L8kzkGAkSvYZ",
        "outputId": "b6410d0b-3bac-4e13-fc1a-6e8187897b40"
      },
      "execution_count": 68,
      "outputs": [
        {
          "output_type": "execute_result",
          "data": {
            "text/plain": [
              "{'bootstrap': True,\n",
              " 'max_depth': 80,\n",
              " 'max_features': 3,\n",
              " 'min_samples_leaf': 3,\n",
              " 'min_samples_split': 8,\n",
              " 'n_estimators': 300,\n",
              " 'random_state': 42}"
            ]
          },
          "metadata": {},
          "execution_count": 68
        }
      ]
    },
    {
      "cell_type": "code",
      "source": [
        "import pandas as pd\n",
        "import geopandas as gpd\n",
        "\n",
        "regions = ['Ferrara', 'Barletta-Andria-Trani', 'Roma', 'Venezia', 'Imperia',\n",
        "       'Padova', 'Savona', 'Udine', 'Trieste', 'Napoli', 'Livorno',\n",
        "       'Gorizia', 'Oristano', 'Lucca', \"Forli'-Cesena\", 'Latina',\n",
        "       'Teramo', 'La Spezia', 'Chieti', 'Trapani', 'Rimini', 'Grosseto',\n",
        "       'Ravenna', 'Fermo', 'Ascoli Piceno', 'Salerno', 'Pisa', 'Genova',\n",
        "       'Pescara', 'Sassari', 'Bari', 'Ancona', 'Cosenza', 'Foggia',\n",
        "       'Cagliari', 'Reggio di Calabria', 'Messina', 'Sud Sardegna',\n",
        "       'Catania', 'Agrigento', 'Crotone', 'Bologna', 'Caserta', 'Treviso',\n",
        "       'Verona', 'Pordenone', 'Pesaro e Urbino', 'Mantova', 'Lecce',\n",
        "       'Nuoro', 'Vicenza', 'Palermo', 'Modena', 'Campobasso', 'Taranto',\n",
        "       'Siracusa', 'Pistoia', 'Catanzaro', \"Reggio nell'Emilia\", 'Matera',\n",
        "       'Cremona', 'Firenze', 'Parma', 'Brindisi', 'Frosinone', 'Piacenza',\n",
        "       'Brescia', 'Lodi', 'Viterbo', 'Vibo Valentia', 'Benevento',\n",
        "       'Pavia', 'Prato', 'Massa-Carrara', 'Milano', 'Ragusa', 'Bergamo',\n",
        "       'Terni', 'Asti', 'Avellino', 'Vercelli', 'Trento', 'Arezzo',\n",
        "       'Monza e della Brianza', 'Siena', 'Perugia', 'Varese', 'Novara',\n",
        "       'Sondrio', 'Como', 'Lecco', 'Biella', 'Bolzano', 'Rieti',\n",
        "       'Isernia', 'Torino', 'Belluno', 'Potenza', 'Caltanissetta',\n",
        "       \"L'Aquila\", 'Enna', 'Aosta']\n",
        "\n",
        "\n",
        "#Download a geojson of the region geometries\n",
        "gdf = gpd.read_file(filename=r'https://raw.githubusercontent.com/openpolis/geojson-italy/master/geojson/limits_IT_provinces.geojson')\n",
        "gdf = gdf.dissolve(by='reg_name') #The geojson is to detailed, dissolve boundaries by reg_name attribute\n",
        "gdf = gdf.reset_index()\n",
        "\n",
        "#gdf.reg_name[~gdf.reg_name.isin(regions)] Two regions are missing in your df\n",
        "#16    Trentino-Alto Adige/Südtirol\n",
        "#18    Valle d'Aosta/Vallée d'Aoste\n",
        "\n",
        "gdf = pd.merge(left=gdf, right=df, how='left', left_on='reg_name', right_on='province')\n",
        "print(gdf.reg_name)\n",
        "ax = gdf.plot(\n",
        "    column=\"alt\",\n",
        "    legend=True,\n",
        "    figsize=(15, 10),\n",
        "    cmap='OrRd',\n",
        "    missing_kwds={'color': 'blue'});\n",
        "\n",
        "ax.set_axis_off();"
      ],
      "metadata": {
        "colab": {
          "base_uri": "https://localhost:8080/",
          "height": 964
        },
        "id": "KdWJIWqY6JUf",
        "outputId": "d191955d-169e-4ade-c0de-113109d5db7a"
      },
      "execution_count": 125,
      "outputs": [
        {
          "output_type": "stream",
          "name": "stdout",
          "text": [
            "0                          Abruzzo\n",
            "1                       Basilicata\n",
            "2                         Calabria\n",
            "3                         Campania\n",
            "4                   Emilia-Romagna\n",
            "5            Friuli-Venezia Giulia\n",
            "6                            Lazio\n",
            "7                          Liguria\n",
            "8                        Lombardia\n",
            "9                           Marche\n",
            "10                          Molise\n",
            "11                        Piemonte\n",
            "12                          Puglia\n",
            "13                        Sardegna\n",
            "14                         Sicilia\n",
            "15                         Toscana\n",
            "16    Trentino-Alto Adige/Südtirol\n",
            "17                          Umbria\n",
            "18    Valle d'Aosta/Vallée d'Aoste\n",
            "19                          Veneto\n",
            "Name: reg_name, dtype: object\n"
          ]
        },
        {
          "output_type": "display_data",
          "data": {
            "text/plain": [
              "<Figure size 1080x720 with 2 Axes>"
            ],
            "image/png": "[encoded data removed]"
          },
          "metadata": {
            "needs_background": "light"
          }
        }
      ]
    },
    {
      "cell_type": "code",
      "source": [
        "df[df.province=='Emilia-Romagna']"
      ],
      "metadata": {
        "colab": {
          "base_uri": "https://localhost:8080/",
          "height": 79
        },
        "id": "yqvCimmUIN2e",
        "outputId": "8a815da5-836b-49ad-a5c4-1884cca86f3e"
      },
      "execution_count": 115,
      "outputs": [
        {
          "output_type": "execute_result",
          "data": {
            "text/plain": [
              "Empty DataFrame\n",
              "Columns: [region, province, name, tc, cres, csor, istat, area, pop, alt, isle, sea, pden, wden, urb, fee, d_fee, sample, organic, paper, glass, wood, metal, plastic, raee, texile, other, msw_so, msw_un, msw, sor, geo, roads, s_wteregio, s_landfill, gdp, proads, wage, finance]\n",
              "Index: []\n",
              "\n",
              "[0 rows x 39 columns]"
            ],
            "text/html": [
              "\n",
              "  <div id=\"df-43849ccc-1906-4f27-a361-3d4f163932ee\">\n",
              "    <div class=\"colab-df-container\">\n",
              "      <div>\n",
              "<style scoped>\n",
              "    .dataframe tbody tr th:only-of-type {\n",
              "        vertical-align: middle;\n",
              "    }\n",
              "\n",
              "    .dataframe tbody tr th {\n",
              "        vertical-align: top;\n",
              "    }\n",
              "\n",
              "    .dataframe thead th {\n",
              "        text-align: right;\n",
              "    }\n",
              "</style>\n",
              "<table border=\"1\" class=\"dataframe\">\n",
              "  <thead>\n",
              "    <tr style=\"text-align: right;\">\n",
              "      <th></th>\n",
              "      <th>region</th>\n",
              "      <th>province</th>\n",
              "      <th>name</th>\n",
              "      <th>tc</th>\n",
              "      <th>cres</th>\n",
              "      <th>csor</th>\n",
              "      <th>istat</th>\n",
              "      <th>area</th>\n",
              "      <th>pop</th>\n",
              "      <th>alt</th>\n",
              "      <th>...</th>\n",
              "      <th>msw</th>\n",
              "      <th>sor</th>\n",
              "      <th>geo</th>\n",
              "      <th>roads</th>\n",
              "      <th>s_wteregio</th>\n",
              "      <th>s_landfill</th>\n",
              "      <th>gdp</th>\n",
              "      <th>proads</th>\n",
              "      <th>wage</th>\n",
              "      <th>finance</th>\n",
              "    </tr>\n",
              "  </thead>\n",
              "  <tbody>\n",
              "  </tbody>\n",
              "</table>\n",
              "<p>0 rows × 39 columns</p>\n",
              "</div>\n",
              "      <button class=\"colab-df-convert\" onclick=\"convertToInteractive('df-43849ccc-1906-4f27-a361-3d4f163932ee')\"\n",
              "              title=\"Convert this dataframe to an interactive table.\"\n",
              "              style=\"display:none;\">\n",
              "        \n",
              "  <svg xmlns=\"http://www.w3.org/2000/svg\" height=\"24px\"viewBox=\"0 0 24 24\"\n",
              "       width=\"24px\">\n",
              "    <path d=\"M0 0h24v24H0V0z\" fill=\"none\"/>\n",
              "    <path d=\"M18.56 5.44l.94 2.06.94-2.06 2.06-.94-2.06-.94-.94-2.06-.94 2.06-2.06.94zm-11 1L8.5 8.5l.94-2.06 2.06-.94-2.06-.94L8.5 2.5l-.94 2.06-2.06.94zm10 10l.94 2.06.94-2.06 2.06-.94-2.06-.94-.94-2.06-.94 2.06-2.06.94z\"/><path d=\"M17.41 7.96l-1.37-1.37c-.4-.4-.92-.59-1.43-.59-.52 0-1.04.2-1.43.59L10.3 9.45l-7.72 7.72c-.78.78-.78 2.05 0 2.83L4 21.41c.39.39.9.59 1.41.59.51 0 1.02-.2 1.41-.59l7.78-7.78 2.81-2.81c.8-.78.8-2.07 0-2.86zM5.41 20L4 18.59l7.72-7.72 1.47 1.35L5.41 20z\"/>\n",
              "  </svg>\n",
              "      </button>\n",
              "      \n",
              "  <style>\n",
              "    .colab-df-container {\n",
              "      display:flex;\n",
              "      flex-wrap:wrap;\n",
              "      gap: 12px;\n",
              "    }\n",
              "\n",
              "    .colab-df-convert {\n",
              "      background-color: #E8F0FE;\n",
              "      border: none;\n",
              "      border-radius: 50%;\n",
              "      cursor: pointer;\n",
              "      display: none;\n",
              "      fill: #1967D2;\n",
              "      height: 32px;\n",
              "      padding: 0 0 0 0;\n",
              "      width: 32px;\n",
              "    }\n",
              "\n",
              "    .colab-df-convert:hover {\n",
              "      background-color: #E2EBFA;\n",
              "      box-shadow: 0px 1px 2px rgba(60, 64, 67, 0.3), 0px 1px 3px 1px rgba(60, 64, 67, 0.15);\n",
              "      fill: #174EA6;\n",
              "    }\n",
              "\n",
              "    [theme=dark] .colab-df-convert {\n",
              "      background-color: #3B4455;\n",
              "      fill: #D2E3FC;\n",
              "    }\n",
              "\n",
              "    [theme=dark] .colab-df-convert:hover {\n",
              "      background-color: #434B5C;\n",
              "      box-shadow: 0px 1px 3px 1px rgba(0, 0, 0, 0.15);\n",
              "      filter: drop-shadow(0px 1px 2px rgba(0, 0, 0, 0.3));\n",
              "      fill: #FFFFFF;\n",
              "    }\n",
              "  </style>\n",
              "\n",
              "      <script>\n",
              "        const buttonEl =\n",
              "          document.querySelector('#df-43849ccc-1906-4f27-a361-3d4f163932ee button.colab-df-convert');\n",
              "        buttonEl.style.display =\n",
              "          google.colab.kernel.accessAllowed ? 'block' : 'none';\n",
              "\n",
              "        async function convertToInteractive(key) {\n",
              "          const element = document.querySelector('#df-43849ccc-1906-4f27-a361-3d4f163932ee');\n",
              "          const dataTable =\n",
              "            await google.colab.kernel.invokeFunction('convertToInteractive',\n",
              "                                                     [key], {});\n",
              "          if (!dataTable) return;\n",
              "\n",
              "          const docLinkHtml = 'Like what you see? Visit the ' +\n",
              "            '<a target=\"_blank\" href=https://colab.research.google.com/notebooks/data_table.ipynb>data table notebook</a>'\n",
              "            + ' to learn more about interactive tables.';\n",
              "          element.innerHTML = '';\n",
              "          dataTable['output_type'] = 'display_data';\n",
              "          await google.colab.output.renderOutput(dataTable, element);\n",
              "          const docLink = document.createElement('div');\n",
              "          docLink.innerHTML = docLinkHtml;\n",
              "          element.appendChild(docLink);\n",
              "        }\n",
              "      </script>\n",
              "    </div>\n",
              "  </div>\n",
              "  "
            ]
          },
          "metadata": {},
          "execution_count": 115
        }
      ]
    },
    {
      "cell_type": "code",
      "source": [
        "\n",
        "from urllib.request import urlopen\n",
        "import json\n",
        "import pandas as pd\n",
        "from shapely.geometry import shape\n",
        "import plotly.graph_objects as go\n",
        "import plotly.express as px"
      ],
      "metadata": {
        "id": "o-lnCgZv7zqH"
      },
      "execution_count": 87,
      "outputs": []
    },
    {
      "cell_type": "code",
      "source": [
        "dict_df = pd.DataFrame(list(dict1.items()),columns = ['column1','column2']) \n",
        "dict_df=dict_df.sort_values(by=['column2'])\n",
        "dict_df=dict_df.tail(10)\n",
        "dict_df"
      ],
      "metadata": {
        "colab": {
          "base_uri": "https://localhost:8080/",
          "height": 363
        },
        "id": "o0Gmrh-uxu5C",
        "outputId": "188c97f3-7107-4c35-a7b9-8baf8ade12cf"
      },
      "execution_count": 17,
      "outputs": [
        {
          "output_type": "execute_result",
          "data": {
            "text/plain": [
              "      column1   column2\n",
              "14    Mantova  0.667858\n",
              "7     Caserta  0.675037\n",
              "28    Vicenza  0.698651\n",
              "13      Lecco  0.705266\n",
              "15     Milano  0.715642\n",
              "2     Bergamo  0.740684\n",
              "19      Pavia  0.743709\n",
              "26      Udine  0.764309\n",
              "20  Pordenone  0.778966\n",
              "25    Sondrio  0.801896"
            ],
            "text/html": [
              "\n",
              "  <div id=\"df-19157ce3-11fa-4419-923b-df8ea586c527\">\n",
              "    <div class=\"colab-df-container\">\n",
              "      <div>\n",
              "<style scoped>\n",
              "    .dataframe tbody tr th:only-of-type {\n",
              "        vertical-align: middle;\n",
              "    }\n",
              "\n",
              "    .dataframe tbody tr th {\n",
              "        vertical-align: top;\n",
              "    }\n",
              "\n",
              "    .dataframe thead th {\n",
              "        text-align: right;\n",
              "    }\n",
              "</style>\n",
              "<table border=\"1\" class=\"dataframe\">\n",
              "  <thead>\n",
              "    <tr style=\"text-align: right;\">\n",
              "      <th></th>\n",
              "      <th>column1</th>\n",
              "      <th>column2</th>\n",
              "    </tr>\n",
              "  </thead>\n",
              "  <tbody>\n",
              "    <tr>\n",
              "      <th>14</th>\n",
              "      <td>Mantova</td>\n",
              "      <td>0.667858</td>\n",
              "    </tr>\n",
              "    <tr>\n",
              "      <th>7</th>\n",
              "      <td>Caserta</td>\n",
              "      <td>0.675037</td>\n",
              "    </tr>\n",
              "    <tr>\n",
              "      <th>28</th>\n",
              "      <td>Vicenza</td>\n",
              "      <td>0.698651</td>\n",
              "    </tr>\n",
              "    <tr>\n",
              "      <th>13</th>\n",
              "      <td>Lecco</td>\n",
              "      <td>0.705266</td>\n",
              "    </tr>\n",
              "    <tr>\n",
              "      <th>15</th>\n",
              "      <td>Milano</td>\n",
              "      <td>0.715642</td>\n",
              "    </tr>\n",
              "    <tr>\n",
              "      <th>2</th>\n",
              "      <td>Bergamo</td>\n",
              "      <td>0.740684</td>\n",
              "    </tr>\n",
              "    <tr>\n",
              "      <th>19</th>\n",
              "      <td>Pavia</td>\n",
              "      <td>0.743709</td>\n",
              "    </tr>\n",
              "    <tr>\n",
              "      <th>26</th>\n",
              "      <td>Udine</td>\n",
              "      <td>0.764309</td>\n",
              "    </tr>\n",
              "    <tr>\n",
              "      <th>20</th>\n",
              "      <td>Pordenone</td>\n",
              "      <td>0.778966</td>\n",
              "    </tr>\n",
              "    <tr>\n",
              "      <th>25</th>\n",
              "      <td>Sondrio</td>\n",
              "      <td>0.801896</td>\n",
              "    </tr>\n",
              "  </tbody>\n",
              "</table>\n",
              "</div>\n",
              "      <button class=\"colab-df-convert\" onclick=\"convertToInteractive('df-19157ce3-11fa-4419-923b-df8ea586c527')\"\n",
              "              title=\"Convert this dataframe to an interactive table.\"\n",
              "              style=\"display:none;\">\n",
              "        \n",
              "  <svg xmlns=\"http://www.w3.org/2000/svg\" height=\"24px\"viewBox=\"0 0 24 24\"\n",
              "       width=\"24px\">\n",
              "    <path d=\"M0 0h24v24H0V0z\" fill=\"none\"/>\n",
              "    <path d=\"M18.56 5.44l.94 2.06.94-2.06 2.06-.94-2.06-.94-.94-2.06-.94 2.06-2.06.94zm-11 1L8.5 8.5l.94-2.06 2.06-.94-2.06-.94L8.5 2.5l-.94 2.06-2.06.94zm10 10l.94 2.06.94-2.06 2.06-.94-2.06-.94-.94-2.06-.94 2.06-2.06.94z\"/><path d=\"M17.41 7.96l-1.37-1.37c-.4-.4-.92-.59-1.43-.59-.52 0-1.04.2-1.43.59L10.3 9.45l-7.72 7.72c-.78.78-.78 2.05 0 2.83L4 21.41c.39.39.9.59 1.41.59.51 0 1.02-.2 1.41-.59l7.78-7.78 2.81-2.81c.8-.78.8-2.07 0-2.86zM5.41 20L4 18.59l7.72-7.72 1.47 1.35L5.41 20z\"/>\n",
              "  </svg>\n",
              "      </button>\n",
              "      \n",
              "  <style>\n",
              "    .colab-df-container {\n",
              "      display:flex;\n",
              "      flex-wrap:wrap;\n",
              "      gap: 12px;\n",
              "    }\n",
              "\n",
              "    .colab-df-convert {\n",
              "      background-color: #E8F0FE;\n",
              "      border: none;\n",
              "      border-radius: 50%;\n",
              "      cursor: pointer;\n",
              "      display: none;\n",
              "      fill: #1967D2;\n",
              "      height: 32px;\n",
              "      padding: 0 0 0 0;\n",
              "      width: 32px;\n",
              "    }\n",
              "\n",
              "    .colab-df-convert:hover {\n",
              "      background-color: #E2EBFA;\n",
              "      box-shadow: 0px 1px 2px rgba(60, 64, 67, 0.3), 0px 1px 3px 1px rgba(60, 64, 67, 0.15);\n",
              "      fill: #174EA6;\n",
              "    }\n",
              "\n",
              "    [theme=dark] .colab-df-convert {\n",
              "      background-color: #3B4455;\n",
              "      fill: #D2E3FC;\n",
              "    }\n",
              "\n",
              "    [theme=dark] .colab-df-convert:hover {\n",
              "      background-color: #434B5C;\n",
              "      box-shadow: 0px 1px 3px 1px rgba(0, 0, 0, 0.15);\n",
              "      filter: drop-shadow(0px 1px 2px rgba(0, 0, 0, 0.3));\n",
              "      fill: #FFFFFF;\n",
              "    }\n",
              "  </style>\n",
              "\n",
              "      <script>\n",
              "        const buttonEl =\n",
              "          document.querySelector('#df-19157ce3-11fa-4419-923b-df8ea586c527 button.colab-df-convert');\n",
              "        buttonEl.style.display =\n",
              "          google.colab.kernel.accessAllowed ? 'block' : 'none';\n",
              "\n",
              "        async function convertToInteractive(key) {\n",
              "          const element = document.querySelector('#df-19157ce3-11fa-4419-923b-df8ea586c527');\n",
              "          const dataTable =\n",
              "            await google.colab.kernel.invokeFunction('convertToInteractive',\n",
              "                                                     [key], {});\n",
              "          if (!dataTable) return;\n",
              "\n",
              "          const docLinkHtml = 'Like what you see? Visit the ' +\n",
              "            '<a target=\"_blank\" href=https://colab.research.google.com/notebooks/data_table.ipynb>data table notebook</a>'\n",
              "            + ' to learn more about interactive tables.';\n",
              "          element.innerHTML = '';\n",
              "          dataTable['output_type'] = 'display_data';\n",
              "          await google.colab.output.renderOutput(dataTable, element);\n",
              "          const docLink = document.createElement('div');\n",
              "          docLink.innerHTML = docLinkHtml;\n",
              "          element.appendChild(docLink);\n",
              "        }\n",
              "      </script>\n",
              "    </div>\n",
              "  </div>\n",
              "  "
            ]
          },
          "metadata": {},
          "execution_count": 17
        }
      ]
    },
    {
      "cell_type": "code",
      "source": [
        "fig = plt.figure(figsize = (30, 10))\n",
        "import matplotlib.pyplot as plt\n",
        "import numpy as np\n",
        "\n",
        "y = dict_df['column2']\n",
        "mylabels = dict_df['column1']\n",
        "plt.bar(mylabels, y, color ='maroon',\n",
        "        width = 0.4)\n",
        "plt.show()"
      ],
      "metadata": {
        "colab": {
          "base_uri": "https://localhost:8080/",
          "height": 612
        },
        "id": "iOV7iSlE8MBh",
        "outputId": "814eb883-d6df-4202-80d8-7e4e16cc6dc1"
      },
      "execution_count": 18,
      "outputs": [
        {
          "output_type": "display_data",
          "data": {
            "text/plain": [
              "<Figure size 2160x720 with 1 Axes>"
            ],
            "image/png": "[encoded data removed]"
          },
          "metadata": {
            "needs_background": "light"
          }
        }
      ]
    },
    {
      "cell_type": "code",
      "source": [
        "#pip install geopandas"
      ],
      "metadata": {
        "id": "cJI4xXc494wP"
      },
      "execution_count": 14,
      "outputs": []
    },
    {
      "cell_type": "code",
      "source": [
        "#pip install scikit-plot"
      ],
      "metadata": {
        "id": "D7XSmlpMEeYJ"
      },
      "execution_count": 13,
      "outputs": []
    },
    {
      "cell_type": "code",
      "source": [
        "import scikitplot as skplt\n",
        "skplt.estimators.plot_learning_curve(rf,X_train,y_train)"
      ],
      "metadata": {
        "colab": {
          "base_uri": "https://localhost:8080/",
          "height": 313
        },
        "id": "tRaBdZFVEavS",
        "outputId": "466386eb-8667-4752-d22b-942a1f827ec8"
      },
      "execution_count": 12,
      "outputs": [
        {
          "output_type": "execute_result",
          "data": {
            "text/plain": [
              "<matplotlib.axes._subplots.AxesSubplot at 0x7f118dc33640>"
            ]
          },
          "metadata": {},
          "execution_count": 12
        },
        {
          "output_type": "display_data",
          "data": {
            "text/plain": [
              "<Figure size 432x288 with 1 Axes>"
            ],
            "image/png": "[encoded data removed]"
          },
          "metadata": {
            "needs_background": "light"
          }
        }
      ]
    },
    {
      "cell_type": "code",
      "source": [
        "sns.regplot(y_test, y_predict);"
      ],
      "metadata": {
        "colab": {
          "base_uri": "https://localhost:8080/",
          "height": 335
        },
        "id": "A7s_dUhCQsPY",
        "outputId": "5b2c1fd1-68d0-4d0d-e2d4-dd024cda492a"
      },
      "execution_count": 19,
      "outputs": [
        {
          "output_type": "stream",
          "name": "stderr",
          "text": [
            "/usr/local/lib/python3.8/dist-packages/seaborn/_decorators.py:36: FutureWarning: Pass the following variables as keyword args: x, y. From version 0.12, the only valid positional argument will be `data`, and passing other arguments without an explicit keyword will result in an error or misinterpretation.\n",
            "  warnings.warn(\n"
          ]
        },
        {
          "output_type": "display_data",
          "data": {
            "text/plain": [
              "<Figure size 432x288 with 1 Axes>"
            ],
            "image/png": "[encoded data removed]"
          },
          "metadata": {
            "needs_background": "light"
          }
        }
      ]
    },
    {
      "cell_type": "code",
      "source": [],
      "metadata": {
        "id": "NVBlpgI9R-rJ"
      },
      "execution_count": 33,
      "outputs": []
    }
  ]
}